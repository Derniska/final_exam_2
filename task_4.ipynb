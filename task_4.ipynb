{
 "cells": [
  {
   "cell_type": "code",
   "execution_count": 1,
   "id": "b01361a2-cf3e-45e9-ab4b-8f82095e117d",
   "metadata": {
    "tags": []
   },
   "outputs": [],
   "source": [
    "%load_ext sql"
   ]
  },
  {
   "cell_type": "code",
   "execution_count": 2,
   "id": "659c7927-4999-4777-915d-f6451e3d45d7",
   "metadata": {
    "tags": []
   },
   "outputs": [
    {
     "name": "stdout",
     "output_type": "stream",
     "text": [
      "[('postgres',), ('jovyan',), ('template1',), ('template0',)]\n"
     ]
    }
   ],
   "source": [
    "import os\n",
    "\n",
    "USER = os.environ['POSTGRESQL_USER']\n",
    "PASSWORD = os.environ['POSTGRESQL_PASSWORD']\n",
    "POSTGRESQL_HOST = '10.129.0.25'\n",
    "DBASE_NAME = 'demo'\n",
    "\n",
    "import psycopg2\n",
    "\n",
    "with psycopg2.connect(\n",
    "    dbname='jovyan'\n",
    ") as conn:\n",
    "    with conn.cursor() as cur:\n",
    "        cur.execute('SELECT datname FROM pg_database')\n",
    "        records = cur.fetchall()\n",
    "        \n",
    "print(records)"
   ]
  },
  {
   "cell_type": "code",
   "execution_count": 3,
   "id": "172d0782-a56c-432c-9614-43c440b0cce3",
   "metadata": {
    "tags": []
   },
   "outputs": [
    {
     "name": "stdout",
     "output_type": "stream",
     "text": [
      "Done.\n"
     ]
    },
    {
     "data": {
      "text/plain": [
       "[]"
      ]
     },
     "execution_count": 3,
     "metadata": {},
     "output_type": "execute_result"
    }
   ],
   "source": [
    "%%sql postgresql:///jovyan\n",
    "CREATE TABLE employees(\n",
    "    employee_id int NOT NULL,\n",
    "    first_name varchar(20) NOT NULL,\n",
    "    last_name varchar(20) NOT NULL,\n",
    "    hire_date date NOT NULL,\n",
    "    job_id varchar(20) NOT NULL,\n",
    "    manager_id int NOT NULL,\n",
    "    department_id int NOT NULL \n",
    "    );"
   ]
  },
  {
   "cell_type": "code",
   "execution_count": 4,
   "id": "819d99b1-f34e-4130-9a18-2dd99457056d",
   "metadata": {
    "tags": []
   },
   "outputs": [
    {
     "name": "stdout",
     "output_type": "stream",
     "text": [
      "12 rows affected.\n"
     ]
    },
    {
     "data": {
      "text/plain": [
       "[]"
      ]
     },
     "execution_count": 4,
     "metadata": {},
     "output_type": "execute_result"
    }
   ],
   "source": [
    "%%sql postgresql:///jovyan\n",
    "insert into employees(employee_id, first_name,last_name,hire_date,job_id, manager_id,department_id) values\n",
    "(100,'Steven', 'King', '1987-06-17','AD_PRES', 0,90),\n",
    "(101,'Neena', 'Kochhar', '1987-06-18','AD_VP', 100, 90),\n",
    "(102, 'Lex', 'DeHaan', '1987-06-19', 'AD_VP', 100, 90),\n",
    "(103, 'Alexander', 'Hunold', '1987-06-20', 'IT_PROG', 102, 60),\n",
    "(107, 'Diana', 'Lorentz', '1987-06-24', 'IT_PROG', 103, 60),\n",
    "(108, 'Nancy', 'Greenberg', '1987-06-25', 'FI_MGR', 101, 100),\n",
    "(109, 'Daniel' ,'Faviet', '1987-06-26', 'FI_ACCOUNT', 108, 100),\n",
    "(114, 'Den', 'Raphaely', '1987-07-01', 'PU_MAN', 110, 30),\n",
    "(118, 'Guy', 'Himuro', '1987-07-05', 'PU_CLERK', 114, 30),\n",
    "(144, 'Peter', 'Vargas', '1987-07-31', 'PU_CLERK', 114, 50),\n",
    "(145,'John', 'Russell', '1987-08-01', 'ST_CLERK' , 100, 80),\n",
    "(146, 'Karen', 'Partners', '1987-08-02', 'SA_MAN', 100, 80);"
   ]
  },
  {
   "cell_type": "code",
   "execution_count": 5,
   "id": "d6e4004b-26a2-4e22-a216-3e98254f249c",
   "metadata": {
    "tags": []
   },
   "outputs": [
    {
     "name": "stdout",
     "output_type": "stream",
     "text": [
      "12 rows affected.\n"
     ]
    },
    {
     "data": {
      "text/html": [
       "<table>\n",
       "    <thead>\n",
       "        <tr>\n",
       "            <th>employee_id</th>\n",
       "            <th>first_name</th>\n",
       "            <th>last_name</th>\n",
       "            <th>hire_date</th>\n",
       "            <th>job_id</th>\n",
       "            <th>manager_id</th>\n",
       "            <th>department_id</th>\n",
       "        </tr>\n",
       "    </thead>\n",
       "    <tbody>\n",
       "        <tr>\n",
       "            <td>100</td>\n",
       "            <td>Steven</td>\n",
       "            <td>King</td>\n",
       "            <td>1987-06-17</td>\n",
       "            <td>AD_PRES</td>\n",
       "            <td>0</td>\n",
       "            <td>90</td>\n",
       "        </tr>\n",
       "        <tr>\n",
       "            <td>101</td>\n",
       "            <td>Neena</td>\n",
       "            <td>Kochhar</td>\n",
       "            <td>1987-06-18</td>\n",
       "            <td>AD_VP</td>\n",
       "            <td>100</td>\n",
       "            <td>90</td>\n",
       "        </tr>\n",
       "        <tr>\n",
       "            <td>102</td>\n",
       "            <td>Lex</td>\n",
       "            <td>DeHaan</td>\n",
       "            <td>1987-06-19</td>\n",
       "            <td>AD_VP</td>\n",
       "            <td>100</td>\n",
       "            <td>90</td>\n",
       "        </tr>\n",
       "        <tr>\n",
       "            <td>103</td>\n",
       "            <td>Alexander</td>\n",
       "            <td>Hunold</td>\n",
       "            <td>1987-06-20</td>\n",
       "            <td>IT_PROG</td>\n",
       "            <td>102</td>\n",
       "            <td>60</td>\n",
       "        </tr>\n",
       "        <tr>\n",
       "            <td>107</td>\n",
       "            <td>Diana</td>\n",
       "            <td>Lorentz</td>\n",
       "            <td>1987-06-24</td>\n",
       "            <td>IT_PROG</td>\n",
       "            <td>103</td>\n",
       "            <td>60</td>\n",
       "        </tr>\n",
       "        <tr>\n",
       "            <td>108</td>\n",
       "            <td>Nancy</td>\n",
       "            <td>Greenberg</td>\n",
       "            <td>1987-06-25</td>\n",
       "            <td>FI_MGR</td>\n",
       "            <td>101</td>\n",
       "            <td>100</td>\n",
       "        </tr>\n",
       "        <tr>\n",
       "            <td>109</td>\n",
       "            <td>Daniel</td>\n",
       "            <td>Faviet</td>\n",
       "            <td>1987-06-26</td>\n",
       "            <td>FI_ACCOUNT</td>\n",
       "            <td>108</td>\n",
       "            <td>100</td>\n",
       "        </tr>\n",
       "        <tr>\n",
       "            <td>114</td>\n",
       "            <td>Den</td>\n",
       "            <td>Raphaely</td>\n",
       "            <td>1987-07-01</td>\n",
       "            <td>PU_MAN</td>\n",
       "            <td>110</td>\n",
       "            <td>30</td>\n",
       "        </tr>\n",
       "        <tr>\n",
       "            <td>118</td>\n",
       "            <td>Guy</td>\n",
       "            <td>Himuro</td>\n",
       "            <td>1987-07-05</td>\n",
       "            <td>PU_CLERK</td>\n",
       "            <td>114</td>\n",
       "            <td>30</td>\n",
       "        </tr>\n",
       "        <tr>\n",
       "            <td>144</td>\n",
       "            <td>Peter</td>\n",
       "            <td>Vargas</td>\n",
       "            <td>1987-07-31</td>\n",
       "            <td>PU_CLERK</td>\n",
       "            <td>114</td>\n",
       "            <td>50</td>\n",
       "        </tr>\n",
       "        <tr>\n",
       "            <td>145</td>\n",
       "            <td>John</td>\n",
       "            <td>Russell</td>\n",
       "            <td>1987-08-01</td>\n",
       "            <td>ST_CLERK</td>\n",
       "            <td>100</td>\n",
       "            <td>80</td>\n",
       "        </tr>\n",
       "        <tr>\n",
       "            <td>146</td>\n",
       "            <td>Karen</td>\n",
       "            <td>Partners</td>\n",
       "            <td>1987-08-02</td>\n",
       "            <td>SA_MAN</td>\n",
       "            <td>100</td>\n",
       "            <td>80</td>\n",
       "        </tr>\n",
       "    </tbody>\n",
       "</table>"
      ],
      "text/plain": [
       "[(100, 'Steven', 'King', datetime.date(1987, 6, 17), 'AD_PRES', 0, 90),\n",
       " (101, 'Neena', 'Kochhar', datetime.date(1987, 6, 18), 'AD_VP', 100, 90),\n",
       " (102, 'Lex', 'DeHaan', datetime.date(1987, 6, 19), 'AD_VP', 100, 90),\n",
       " (103, 'Alexander', 'Hunold', datetime.date(1987, 6, 20), 'IT_PROG', 102, 60),\n",
       " (107, 'Diana', 'Lorentz', datetime.date(1987, 6, 24), 'IT_PROG', 103, 60),\n",
       " (108, 'Nancy', 'Greenberg', datetime.date(1987, 6, 25), 'FI_MGR', 101, 100),\n",
       " (109, 'Daniel', 'Faviet', datetime.date(1987, 6, 26), 'FI_ACCOUNT', 108, 100),\n",
       " (114, 'Den', 'Raphaely', datetime.date(1987, 7, 1), 'PU_MAN', 110, 30),\n",
       " (118, 'Guy', 'Himuro', datetime.date(1987, 7, 5), 'PU_CLERK', 114, 30),\n",
       " (144, 'Peter', 'Vargas', datetime.date(1987, 7, 31), 'PU_CLERK', 114, 50),\n",
       " (145, 'John', 'Russell', datetime.date(1987, 8, 1), 'ST_CLERK', 100, 80),\n",
       " (146, 'Karen', 'Partners', datetime.date(1987, 8, 2), 'SA_MAN', 100, 80)]"
      ]
     },
     "execution_count": 5,
     "metadata": {},
     "output_type": "execute_result"
    }
   ],
   "source": [
    "%%sql postgresql:///jovyan\n",
    "select * from employees"
   ]
  },
  {
   "cell_type": "code",
   "execution_count": 6,
   "id": "d665fec8-0966-4952-baf0-7ae0775c8a25",
   "metadata": {
    "tags": []
   },
   "outputs": [
    {
     "name": "stdout",
     "output_type": "stream",
     "text": [
      "Done.\n"
     ]
    },
    {
     "data": {
      "text/plain": [
       "[]"
      ]
     },
     "execution_count": 6,
     "metadata": {},
     "output_type": "execute_result"
    }
   ],
   "source": [
    "%%sql postgresql:///jovyan\n",
    "CREATE TABLE departments(\n",
    "    department_id int NOT NULL,\n",
    "    department_name varchar(20) NOT NULL,\n",
    "    manager_id int NOT NULL);"
   ]
  },
  {
   "cell_type": "code",
   "execution_count": 7,
   "id": "eba89e53-df7b-473f-aea3-c2cc1dd2e765",
   "metadata": {
    "tags": []
   },
   "outputs": [
    {
     "name": "stdout",
     "output_type": "stream",
     "text": [
      "10 rows affected.\n"
     ]
    },
    {
     "data": {
      "text/plain": [
       "[]"
      ]
     },
     "execution_count": 7,
     "metadata": {},
     "output_type": "execute_result"
    }
   ],
   "source": [
    "%%sql postgresql:///jovyan\n",
    "insert into departments(department_id, department_name, manager_id) values\n",
    "(10, 'Administration', 200),\n",
    "(30, 'Purchasing', 114),\n",
    "(40, 'HumanResources', 203),\n",
    "(50, 'Shipping', 121),\n",
    "(60, 'IT', 103),\n",
    "(70, 'PublicRelations', 204),\n",
    "(80, 'Sales', 145),\n",
    "(90, 'Executive', 100),\n",
    "(100, 'Finance', 108),\n",
    "(110, 'Accounting', 205)"
   ]
  },
  {
   "cell_type": "code",
   "execution_count": 8,
   "id": "f1ac6522-4021-4ab9-9306-77aeec0e1915",
   "metadata": {
    "tags": []
   },
   "outputs": [
    {
     "name": "stdout",
     "output_type": "stream",
     "text": [
      " * postgresql:///jovyan\n",
      "10 rows affected.\n"
     ]
    },
    {
     "data": {
      "text/html": [
       "<table>\n",
       "    <thead>\n",
       "        <tr>\n",
       "            <th>department_id</th>\n",
       "            <th>department_name</th>\n",
       "            <th>manager_id</th>\n",
       "        </tr>\n",
       "    </thead>\n",
       "    <tbody>\n",
       "        <tr>\n",
       "            <td>10</td>\n",
       "            <td>Administration</td>\n",
       "            <td>200</td>\n",
       "        </tr>\n",
       "        <tr>\n",
       "            <td>30</td>\n",
       "            <td>Purchasing</td>\n",
       "            <td>114</td>\n",
       "        </tr>\n",
       "        <tr>\n",
       "            <td>40</td>\n",
       "            <td>HumanResources</td>\n",
       "            <td>203</td>\n",
       "        </tr>\n",
       "        <tr>\n",
       "            <td>50</td>\n",
       "            <td>Shipping</td>\n",
       "            <td>121</td>\n",
       "        </tr>\n",
       "        <tr>\n",
       "            <td>60</td>\n",
       "            <td>IT</td>\n",
       "            <td>103</td>\n",
       "        </tr>\n",
       "        <tr>\n",
       "            <td>70</td>\n",
       "            <td>PublicRelations</td>\n",
       "            <td>204</td>\n",
       "        </tr>\n",
       "        <tr>\n",
       "            <td>80</td>\n",
       "            <td>Sales</td>\n",
       "            <td>145</td>\n",
       "        </tr>\n",
       "        <tr>\n",
       "            <td>90</td>\n",
       "            <td>Executive</td>\n",
       "            <td>100</td>\n",
       "        </tr>\n",
       "        <tr>\n",
       "            <td>100</td>\n",
       "            <td>Finance</td>\n",
       "            <td>108</td>\n",
       "        </tr>\n",
       "        <tr>\n",
       "            <td>110</td>\n",
       "            <td>Accounting</td>\n",
       "            <td>205</td>\n",
       "        </tr>\n",
       "    </tbody>\n",
       "</table>"
      ],
      "text/plain": [
       "[(10, 'Administration', 200),\n",
       " (30, 'Purchasing', 114),\n",
       " (40, 'HumanResources', 203),\n",
       " (50, 'Shipping', 121),\n",
       " (60, 'IT', 103),\n",
       " (70, 'PublicRelations', 204),\n",
       " (80, 'Sales', 145),\n",
       " (90, 'Executive', 100),\n",
       " (100, 'Finance', 108),\n",
       " (110, 'Accounting', 205)]"
      ]
     },
     "execution_count": 8,
     "metadata": {},
     "output_type": "execute_result"
    }
   ],
   "source": [
    "%sql select * from departments"
   ]
  },
  {
   "cell_type": "code",
   "execution_count": 9,
   "id": "907ca321-33d3-4a42-90dd-f4419deb0570",
   "metadata": {
    "tags": []
   },
   "outputs": [
    {
     "name": "stdout",
     "output_type": "stream",
     "text": [
      "5 rows affected.\n"
     ]
    },
    {
     "data": {
      "text/html": [
       "<table>\n",
       "    <thead>\n",
       "        <tr>\n",
       "            <th>department_name</th>\n",
       "            <th>manager_name</th>\n",
       "            <th>manager_surname</th>\n",
       "            <th>number_of_employees</th>\n",
       "        </tr>\n",
       "    </thead>\n",
       "    <tbody>\n",
       "        <tr>\n",
       "            <td>Executive</td>\n",
       "            <td>Steven</td>\n",
       "            <td>King</td>\n",
       "            <td>3</td>\n",
       "        </tr>\n",
       "        <tr>\n",
       "            <td>Finance</td>\n",
       "            <td>Nancy</td>\n",
       "            <td>Greenberg</td>\n",
       "            <td>2</td>\n",
       "        </tr>\n",
       "        <tr>\n",
       "            <td>IT</td>\n",
       "            <td>Alexander</td>\n",
       "            <td>Hunold</td>\n",
       "            <td>2</td>\n",
       "        </tr>\n",
       "        <tr>\n",
       "            <td>Purchasing</td>\n",
       "            <td>Den</td>\n",
       "            <td>Raphaely</td>\n",
       "            <td>2</td>\n",
       "        </tr>\n",
       "        <tr>\n",
       "            <td>Sales</td>\n",
       "            <td>John</td>\n",
       "            <td>Russell</td>\n",
       "            <td>2</td>\n",
       "        </tr>\n",
       "    </tbody>\n",
       "</table>"
      ],
      "text/plain": [
       "[('Executive', 'Steven', 'King', 3),\n",
       " ('Finance', 'Nancy', 'Greenberg', 2),\n",
       " ('IT', 'Alexander', 'Hunold', 2),\n",
       " ('Purchasing', 'Den', 'Raphaely', 2),\n",
       " ('Sales', 'John', 'Russell', 2)]"
      ]
     },
     "execution_count": 9,
     "metadata": {},
     "output_type": "execute_result"
    }
   ],
   "source": [
    "%%sql postgresql:///jovyan\n",
    "select department_name, first_name as manager_name, last_name as manager_surname, s.number_of_employees from employees e\n",
    "right join (select department_name, count(employee_id) as number_of_employees, max(d.manager_id) as manager_id from departments d\n",
    "right join employees using(department_id)\n",
    "group by department_name) as s on e.employee_id = s.manager_id\n",
    "where first_name is not null\n",
    "order by department_name"
   ]
  },
  {
   "cell_type": "code",
   "execution_count": null,
   "id": "556e5cea-f052-47cf-9bce-3ede439e5d8a",
   "metadata": {},
   "outputs": [],
   "source": []
  }
 ],
 "metadata": {
  "kernelspec": {
   "display_name": "Python 3 (ipykernel)",
   "language": "python",
   "name": "python3"
  },
  "language_info": {
   "codemirror_mode": {
    "name": "ipython",
    "version": 3
   },
   "file_extension": ".py",
   "mimetype": "text/x-python",
   "name": "python",
   "nbconvert_exporter": "python",
   "pygments_lexer": "ipython3",
   "version": "3.10.9"
  }
 },
 "nbformat": 4,
 "nbformat_minor": 5
}
