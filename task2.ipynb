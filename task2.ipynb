{
 "cells": [
  {
   "cell_type": "code",
   "execution_count": 8,
   "id": "8d3f07cb-cefa-47f1-9044-12ad3a84d3d3",
   "metadata": {},
   "outputs": [],
   "source": [
    "def check_power(power, base):\n",
    "    if power <= 0 and base <= 1:\n",
    "        return False\n",
    "    while power % base == 0:\n",
    "        power = power // base\n",
    "    return power == 1\n",
    "    "
   ]
  },
  {
   "cell_type": "code",
   "execution_count": 9,
   "id": "c796033e-1479-4e83-80d9-38ba6335571b",
   "metadata": {
    "tags": []
   },
   "outputs": [
    {
     "data": {
      "text/plain": [
       "True"
      ]
     },
     "execution_count": 9,
     "metadata": {},
     "output_type": "execute_result"
    }
   ],
   "source": [
    "check_power(16,4)"
   ]
  },
  {
   "cell_type": "code",
   "execution_count": 10,
   "id": "1dd67648-96e1-4a1b-b577-8919b873b494",
   "metadata": {},
   "outputs": [
    {
     "data": {
      "text/plain": [
       "False"
      ]
     },
     "execution_count": 10,
     "metadata": {},
     "output_type": "execute_result"
    }
   ],
   "source": [
    "check_power(990,7)"
   ]
  },
  {
   "cell_type": "code",
   "execution_count": null,
   "id": "ec748ffb-e30c-453d-b279-955ae1ccf9a6",
   "metadata": {},
   "outputs": [],
   "source": []
  }
 ],
 "metadata": {
  "kernelspec": {
   "display_name": "Python 3 (ipykernel)",
   "language": "python",
   "name": "python3"
  },
  "language_info": {
   "codemirror_mode": {
    "name": "ipython",
    "version": 3
   },
   "file_extension": ".py",
   "mimetype": "text/x-python",
   "name": "python",
   "nbconvert_exporter": "python",
   "pygments_lexer": "ipython3",
   "version": "3.10.9"
  }
 },
 "nbformat": 4,
 "nbformat_minor": 5
}
